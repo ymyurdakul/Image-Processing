{
 "cells": [
  {
   "cell_type": "code",
   "execution_count": 1,
   "metadata": {},
   "outputs": [],
   "source": [
    "import cv2\n",
    "import numpy as np\n",
    "\n",
    "a=cv2.imread(\"alfa.PNG\")\n",
    "b=cv2.imread(\"gen.PNG\")\n",
    "\n",
    " \n",
    "\n",
    "\n",
    "x=a[0:300,0:200]\n",
    "y=b[0:300,0:200]1\n",
    "\n",
    "cv2.imshow(\"x\",x)\n",
    "cv2.imshow(\"y\",y)\n",
    "\n",
    "dst=cv2.addWeighted(x,0.3,y,0.7,0)\n",
    "cv2.imshow(\"dst\",dst)\n",
    "\n",
    "\n",
    "cv2.waitKey(0)\n",
    "cv2.destroyAllWindows()"
   ]
  },
  {
   "cell_type": "code",
   "execution_count": 2,
   "metadata": {},
   "outputs": [],
   "source": [
    "ag=cv2.cvtColor(a,cv2.COLOR_BGR2HSV)\n",
    "\n",
    "cv2.imshow(\"ag\",ag)\n",
    "\n",
    "\n",
    "cv2.waitKey(0)\n",
    "cv2.destroyAllWindows()"
   ]
  },
  {
   "cell_type": "code",
   "execution_count": 3,
   "metadata": {},
   "outputs": [],
   "source": [
    "import cv2\n",
    "import numpy as np\n",
    "cam=cv2.VideoCapture(0)\n",
    "while True:\n",
    "    red,goruntu=cam.read()\n",
    "    goruntu=cv2.cvtColor(goruntu,cv2.COLOR_BGR2HSV)\n",
    "    cv2.imshow(\"res\",goruntu)\n",
    "    if   cv2.waitKey(30) & 0xFF == ord(\"q\"):\n",
    "        break\n",
    "cam.release();\n",
    "cv2.destroyAllWindows()"
   ]
  },
  {
   "cell_type": "code",
   "execution_count": 3,
   "metadata": {},
   "outputs": [],
   "source": [
    "import cv2\n",
    "import numpy as np\n",
    "cap=cv2.VideoCapture(0)\n",
    "def nothing(x):\n",
    "    pass\n",
    "\n",
    "cv2.namedWindow(\"Trackbar\")\n",
    "cv2.resizeWindow(\"Trackbar\",500,500)\n",
    "cv2.createTrackbar(\"Lower-H\",\"Trackbar\",0,180,nothing)\n",
    "cv2.createTrackbar(\"Lower-S\",\"Trackbar\",0,255,nothing)\n",
    "cv2.createTrackbar(\"Lower-V\",\"Trackbar\",0,255,nothing)\n",
    "\n",
    "cv2.createTrackbar(\"Upper-H\",\"Trackbar\",0,180,nothing)\n",
    "cv2.createTrackbar(\"Upper-S\",\"Trackbar\",0,255,nothing)\n",
    "cv2.createTrackbar(\"Upper-V\",\"Trackbar\",0,255,nothing)\n",
    "\n",
    "cv2.setTrackbarPos(\"Upper-H\",\"Trackbar\",180)\n",
    "cv2.setTrackbarPos(\"Upper-S\",\"Trackbar\",255)\n",
    "cv2.setTrackbarPos(\"Upper-V\",\"Trackbar\",255)\n",
    "\n",
    "while True:\n",
    "    ret,frame=cap.read()\n",
    "    frame=cv2.flip(frame,1)\n",
    "    frame_hsv=cv2.cvtColor(frame,cv2.COLOR_BGR2HSV)\n",
    "   \n",
    "    lower_h=cv2.getTrackbarPos(\"Lower-H\",\"Trackbar\")\n",
    "    lower_s=cv2.getTrackbarPos(\"Lower-S\",\"Trackbar\")\n",
    "    lower_v=cv2.getTrackbarPos(\"Lower-V\",\"Trackbar\")\n",
    "    \n",
    "    upper_h=cv2.getTrackbarPos(\"Upper-H\",\"Trackbar\")\n",
    "    upper_s=cv2.getTrackbarPos(\"Upper-S\",\"Trackbar\")\n",
    "    upper_v=cv2.getTrackbarPos(\"Upper-V\",\"Trackbar\")\n",
    "     \n",
    "    lower_color=np.array([lower_h,lower_s,lower_v])\n",
    "    upper_color=np.array([upper_h,upper_s,upper_v])\n",
    "    \n",
    "    mask=cv2.inRange(frame_hsv,lower_color,upper_color)\n",
    "    cv2.imshow(\"original\",frame)\n",
    "    cv2.imshow(\"mask\",mask)\n",
    "    \n",
    "    if   cv2.waitKey(30) & 0xFF == ord(\"q\"):\n",
    "        break\n",
    "    \n",
    "cap.release();\n",
    "cv2.destroyAllWindows()"
   ]
  }
 ],
 "metadata": {
  "kernelspec": {
   "display_name": "Python 3",
   "language": "python",
   "name": "python3"
  },
  "language_info": {
   "codemirror_mode": {
    "name": "ipython",
    "version": 3
   },
   "file_extension": ".py",
   "mimetype": "text/x-python",
   "name": "python",
   "nbconvert_exporter": "python",
   "pygments_lexer": "ipython3",
   "version": "3.8.8"
  }
 },
 "nbformat": 4,
 "nbformat_minor": 4
}
